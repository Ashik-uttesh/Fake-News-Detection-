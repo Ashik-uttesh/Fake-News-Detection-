{
 "cells": [
  {
   "cell_type": "code",
   "execution_count": 24,
   "id": "b95e265b",
   "metadata": {},
   "outputs": [],
   "source": [
    "import pandas as pd\n",
    "import numpy as np\n",
    "import os\n",
    "from tensorflow.keras.preprocessing.image import img_to_array, load_img\n",
    "from tensorflow.keras.models import Model\n",
    "from tensorflow.keras.layers import Input, Dense, Conv2D, MaxPooling2D, Flatten, Concatenate\n",
    "from tensorflow.keras.utils import to_categorical\n",
    "from sklearn.model_selection import train_test_split\n",
    "from sklearn.feature_extraction.text import TfidfVectorizer\n",
    "from tensorflow.keras.applications import MobileNetV2\n",
    "from tensorflow.keras.applications.mobilenet_v2 import preprocess_input\n",
    "from preprocess import clean_text\n",
    "import pickle\n"
   ]
  },
  {
   "cell_type": "code",
   "execution_count": 12,
   "id": "2791e7f8",
   "metadata": {},
   "outputs": [
    {
     "name": "stdout",
     "output_type": "stream",
     "text": [
      "                                               title  \\\n",
      "0  CREEPY BERNIE Calls For Trump To Step Down…Wha...   \n",
      "1  NOT SO FAST: CA LIBS TRY TO ‘Drought Shame’ Co...   \n",
      "2   Trump Is Bragging About His Approval Rating, ...   \n",
      "3  Frankfurt defuses massive WWII bomb after evac...   \n",
      "4  Maltese prime minister promises reward to unco...   \n",
      "\n",
      "                                                text    subject  \\\n",
      "0  Yesterday, Senator Bernie Sanders, I-Vt., went...   politics   \n",
      "1  When will the libs start Delta Smelt shaming a...   politics   \n",
      "2  The current occupant of the White House used t...       News   \n",
      "3  FRANKFURT (Reuters) - German explosives expert...  worldnews   \n",
      "4  VALLETTA (Reuters) - Prime Minister Joseph Mus...  worldnews   \n",
      "\n",
      "                 date  label  \n",
      "0         Dec 8, 2017      0  \n",
      "1         Jul 9, 2015      0  \n",
      "2        May 25, 2017      0  \n",
      "3  September 3, 2017       1  \n",
      "4   October 18, 2017       1  \n",
      "                                                   title  \\\n",
      "44893  #YouveBeenTrumped…Journalist Who Tried To Nail...   \n",
      "44894  Tillerson accuses Iran of 'alarming provocatio...   \n",
      "44895  Lockheed nears $27 billion helicopter deal wit...   \n",
      "44896  TRUMP’S GREAT ANSWER On Terror Attack: “It’s a...   \n",
      "44897  RADICAL “OCCUPY” MOM WHO LEFT 4 KIDS AND HUSBA...   \n",
      "\n",
      "                                                    text       subject  \\\n",
      "44893  This is the dumbest and biggest crime in the h...      politics   \n",
      "44894  WASHINGTON (Reuters) - U.S. Secretary of State...  politicsNews   \n",
      "44895  (Reuters) - Lockheed Martin Corp is expected t...  politicsNews   \n",
      "44896                                                         politics   \n",
      "44897  Occupy Wall Street 2011:The fun is over for a ...     left-news   \n",
      "\n",
      "                  date  label  \n",
      "44893     Jul 11, 2017      0  \n",
      "44894  April 19, 2017       1  \n",
      "44895  March 28, 2017       1  \n",
      "44896     Dec 22, 2016      0  \n",
      "44897      Sep 9, 2015      0  \n"
     ]
    }
   ],
   "source": [
    "fake_df = pd.read_csv(r'C:\\Users\\Admin\\Desktop\\Image gen\\fakenews(text+image)\\Articles\\Fake.csv')\n",
    "real_df = pd.read_csv(r'C:\\Users\\Admin\\Desktop\\Image gen\\fakenews(text+image)\\Articles\\Real.csv')\n",
    "\n",
    "# Add labels\n",
    "fake_df['label'] = 0\n",
    "real_df['label'] = 1\n",
    "\n",
    "# Optional: create dummy image paths if not present\n",
    "# fake_df['image_path'] = 'dummy_fake.jpg'\n",
    "# real_df['image_path'] = 'dummy_real.jpg'\n",
    "\n",
    "# Combine into one DataFrame\n",
    "df = pd.concat([fake_df, real_df], ignore_index=True)\n",
    "\n",
    "# Shuffle the rows\n",
    "df = df.sample(frac=1).reset_index(drop=True)\n",
    "\n",
    "print(df.head())\n",
    "print(df.tail())"
   ]
  },
  {
   "cell_type": "code",
   "execution_count": 13,
   "id": "4ef01700",
   "metadata": {},
   "outputs": [],
   "source": [
    "df['clean_text'] = df['text'].apply(clean_text)\n"
   ]
  },
  {
   "cell_type": "code",
   "execution_count": 14,
   "id": "5e4fc92b",
   "metadata": {},
   "outputs": [
    {
     "name": "stdout",
     "output_type": "stream",
     "text": [
      "                                                   title  \\\n",
      "44893  #YouveBeenTrumped…Journalist Who Tried To Nail...   \n",
      "44894  Tillerson accuses Iran of 'alarming provocatio...   \n",
      "44895  Lockheed nears $27 billion helicopter deal wit...   \n",
      "44896  TRUMP’S GREAT ANSWER On Terror Attack: “It’s a...   \n",
      "44897  RADICAL “OCCUPY” MOM WHO LEFT 4 KIDS AND HUSBA...   \n",
      "\n",
      "                                                    text       subject  \\\n",
      "44893  This is the dumbest and biggest crime in the h...      politics   \n",
      "44894  WASHINGTON (Reuters) - U.S. Secretary of State...  politicsNews   \n",
      "44895  (Reuters) - Lockheed Martin Corp is expected t...  politicsNews   \n",
      "44896                                                         politics   \n",
      "44897  Occupy Wall Street 2011:The fun is over for a ...     left-news   \n",
      "\n",
      "                  date  label  \\\n",
      "44893     Jul 11, 2017      0   \n",
      "44894  April 19, 2017       1   \n",
      "44895  March 28, 2017       1   \n",
      "44896     Dec 22, 2016      0   \n",
      "44897      Sep 9, 2015      0   \n",
      "\n",
      "                                              clean_text  \n",
      "44893  dumbest biggest crime history american politic...  \n",
      "44894  washington reuters us secretary state rex till...  \n",
      "44895  reuters lockheed martin corp expected receive ...  \n",
      "44896                                                     \n",
      "44897  occupy wall street 2011the fun hippie mother l...  \n"
     ]
    }
   ],
   "source": [
    "print(df.tail())"
   ]
  },
  {
   "cell_type": "code",
   "execution_count": 15,
   "id": "a8b65b3e",
   "metadata": {},
   "outputs": [],
   "source": [
    "tfidf = TfidfVectorizer(max_features=500)\n",
    "X_text = tfidf.fit_transform(df['clean_text']).toarray()\n",
    "y = df['label'].values\n",
    "\n",
    "# Load image data\n",
    "img_dir = \"Images\"  # Should have 'Real' and 'Fake' folders\n",
    "img_data = []\n",
    "img_labels = []\n",
    "label_map = {\"Real\": 1, \"Fake\": 0}\n",
    "\n",
    "for label_folder in os.listdir(img_dir):\n",
    "    path = os.path.join(img_dir, label_folder)\n",
    "    if not os.path.isdir(path):\n",
    "        continue\n",
    "    for img_name in os.listdir(path):\n",
    "        try:\n",
    "            img_path = os.path.join(path, img_name)\n",
    "            img = load_img(img_path, target_size=(224, 224))\n",
    "            img = img_to_array(img) / 255.0\n",
    "            img_data.append(img)\n",
    "            img_labels.append(label_map[label_folder])\n",
    "        except:\n",
    "            continue"
   ]
  },
  {
   "cell_type": "code",
   "execution_count": 25,
   "id": "a0c9a642",
   "metadata": {},
   "outputs": [
    {
     "name": "stdout",
     "output_type": "stream",
     "text": [
      "Downloading data from https://storage.googleapis.com/tensorflow/keras-applications/mobilenet_v2/mobilenet_v2_weights_tf_dim_ordering_tf_kernels_1.0_224_no_top.h5\n",
      "\u001b[1m9406464/9406464\u001b[0m \u001b[32m━━━━━━━━━━━━━━━━━━━━\u001b[0m\u001b[37m\u001b[0m \u001b[1m12s\u001b[0m 1us/step\n",
      "Epoch 1/5\n",
      "\u001b[1m1/1\u001b[0m \u001b[32m━━━━━━━━━━━━━━━━━━━━\u001b[0m\u001b[37m\u001b[0m \u001b[1m50s\u001b[0m 50s/step - accuracy: 0.5000 - loss: 0.8184 - val_accuracy: 0.5000 - val_loss: 0.7698\n",
      "Epoch 2/5\n",
      "\u001b[1m1/1\u001b[0m \u001b[32m━━━━━━━━━━━━━━━━━━━━\u001b[0m\u001b[37m\u001b[0m \u001b[1m2s\u001b[0m 2s/step - accuracy: 0.5000 - loss: 0.6759 - val_accuracy: 0.5000 - val_loss: 0.5727\n",
      "Epoch 3/5\n",
      "\u001b[1m1/1\u001b[0m \u001b[32m━━━━━━━━━━━━━━━━━━━━\u001b[0m\u001b[37m\u001b[0m \u001b[1m2s\u001b[0m 2s/step - accuracy: 0.8125 - loss: 0.4253 - val_accuracy: 1.0000 - val_loss: 0.3783\n",
      "Epoch 4/5\n",
      "\u001b[1m1/1\u001b[0m \u001b[32m━━━━━━━━━━━━━━━━━━━━\u001b[0m\u001b[37m\u001b[0m \u001b[1m3s\u001b[0m 3s/step - accuracy: 1.0000 - loss: 0.3041 - val_accuracy: 0.7500 - val_loss: 0.3311\n",
      "Epoch 5/5\n",
      "\u001b[1m1/1\u001b[0m \u001b[32m━━━━━━━━━━━━━━━━━━━━\u001b[0m\u001b[37m\u001b[0m \u001b[1m5s\u001b[0m 5s/step - accuracy: 1.0000 - loss: 0.2734 - val_accuracy: 1.0000 - val_loss: 0.2632\n"
     ]
    },
    {
     "data": {
      "text/plain": [
       "<keras.src.callbacks.history.History at 0x1a8d24dd4b0>"
      ]
     },
     "execution_count": 25,
     "metadata": {},
     "output_type": "execute_result"
    }
   ],
   "source": [
    "X_img = np.array(img_data)\n",
    "y_img = np.array(img_labels)\n",
    "\n",
    "# Align text and image data\n",
    "min_len = min(len(X_text), len(X_img), len(y_img))\n",
    "X_text = X_text[:min_len]\n",
    "X_img = X_img[:min_len]\n",
    "y = y_img[:min_len]\n",
    "\n",
    "if len(y.shape) == 1:\n",
    "    y = to_categorical(y, 2)\n",
    "\n",
    "# Train-test split\n",
    "X_text_train, X_text_test, X_img_train, X_img_test, y_train, y_test = train_test_split(\n",
    "    X_text, X_img, y, test_size=0.2, random_state=42\n",
    ")\n",
    "\n",
    "# Model\n",
    "text_input = Input(shape=(X_text.shape[1],))\n",
    "text_branch = Dense(128, activation='relu')(text_input)\n",
    "\n",
    "# --- Updated image branch with MobileNetV2 ---\n",
    "base_model = MobileNetV2(include_top=False, input_shape=(224, 224, 3), pooling='avg', weights='imagenet')\n",
    "base_model.trainable = False  # Freeze pretrained layers\n",
    "\n",
    "img_input = Input(shape=(224, 224, 3))\n",
    "x = base_model(img_input)\n",
    "img_branch = Dense(128, activation='relu')(x)\n",
    "\n",
    "# Merge text and image\n",
    "merged = Concatenate()([text_branch, img_branch])\n",
    "merged = Dense(64, activation='relu')(merged)\n",
    "output = Dense(2, activation='softmax')(merged)\n",
    "\n",
    "model = Model(inputs=[text_input, img_input], outputs=output)\n",
    "model.compile(optimizer='adam', loss='categorical_crossentropy', metrics=['accuracy'])\n",
    "\n",
    "# Train\n",
    "model.fit([X_text_train, X_img_train], y_train, epochs=5, validation_data=([X_text_test, X_img_test], y_test))"
   ]
  },
  {
   "cell_type": "code",
   "execution_count": null,
   "id": "92f5ebd7",
   "metadata": {},
   "outputs": [],
   "source": [
    "#Save\n",
    "\n",
    "model.save(\"models/text_image_model.keras\")\n",
    "with open(\"models/tfidf.pkl\", \"wb\") as f:\n",
    "    pickle.dump(tfidf, f)"
   ]
  },
  {
   "cell_type": "code",
   "execution_count": null,
   "id": "a85dbe8e",
   "metadata": {},
   "outputs": [],
   "source": []
  }
 ],
 "metadata": {
  "kernelspec": {
   "display_name": "tf-env",
   "language": "python",
   "name": "python3"
  },
  "language_info": {
   "codemirror_mode": {
    "name": "ipython",
    "version": 3
   },
   "file_extension": ".py",
   "mimetype": "text/x-python",
   "name": "python",
   "nbconvert_exporter": "python",
   "pygments_lexer": "ipython3",
   "version": "3.10.18"
  }
 },
 "nbformat": 4,
 "nbformat_minor": 5
}
