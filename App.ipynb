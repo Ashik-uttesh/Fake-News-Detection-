{
 "cells": [
  {
   "cell_type": "code",
   "execution_count": 2,
   "id": "88a9baf5",
   "metadata": {},
   "outputs": [
    {
     "name": "stderr",
     "output_type": "stream",
     "text": [
      "[nltk_data] Downloading package stopwords to\n",
      "[nltk_data]     C:\\Users\\Admin\\AppData\\Roaming\\nltk_data...\n",
      "[nltk_data]   Package stopwords is already up-to-date!\n"
     ]
    }
   ],
   "source": [
    "import streamlit as st\n",
    "import numpy as np\n",
    "import pandas as pd\n",
    "from tensorflow.keras.models import load_model\n",
    "from preprocess import clean_text\n",
    "from sklearn.feature_extraction.text import TfidfVectorizer\n",
    "from tensorflow.keras.preprocessing.image import img_to_array, load_img\n",
    "import pickle"
   ]
  },
  {
   "cell_type": "code",
   "execution_count": 3,
   "id": "b40d3bca",
   "metadata": {},
   "outputs": [
    {
     "name": "stderr",
     "output_type": "stream",
     "text": [
      "c:\\Users\\Admin\\anaconda3\\envs\\tf-env\\lib\\site-packages\\keras\\src\\saving\\saving_lib.py:802: UserWarning: Skipping variable loading for optimizer 'rmsprop', because it has 10 variables whereas the saved optimizer has 18 variables. \n",
      "  saveable.load_own_variables(weights_store.get(inner_path))\n",
      "2025-06-21 00:21:10.314 WARNING streamlit.runtime.scriptrunner_utils.script_run_context: Thread 'MainThread': missing ScriptRunContext! This warning can be ignored when running in bare mode.\n",
      "2025-06-21 00:21:18.260 \n",
      "  \u001b[33m\u001b[1mWarning:\u001b[0m to view this Streamlit app on a browser, run it with the following\n",
      "  command:\n",
      "\n",
      "    streamlit run c:\\Users\\Admin\\anaconda3\\envs\\tf-env\\lib\\site-packages\\ipykernel_launcher.py [ARGUMENTS]\n",
      "2025-06-21 00:21:18.264 Thread 'MainThread': missing ScriptRunContext! This warning can be ignored when running in bare mode.\n",
      "2025-06-21 00:21:18.268 Thread 'MainThread': missing ScriptRunContext! This warning can be ignored when running in bare mode.\n",
      "2025-06-21 00:21:18.275 Thread 'MainThread': missing ScriptRunContext! This warning can be ignored when running in bare mode.\n",
      "2025-06-21 00:21:18.278 Thread 'MainThread': missing ScriptRunContext! This warning can be ignored when running in bare mode.\n",
      "2025-06-21 00:21:18.283 Thread 'MainThread': missing ScriptRunContext! This warning can be ignored when running in bare mode.\n",
      "2025-06-21 00:21:18.286 Thread 'MainThread': missing ScriptRunContext! This warning can be ignored when running in bare mode.\n",
      "2025-06-21 00:21:18.292 Session state does not function when running a script without `streamlit run`\n",
      "2025-06-21 00:21:18.299 Thread 'MainThread': missing ScriptRunContext! This warning can be ignored when running in bare mode.\n",
      "2025-06-21 00:21:18.302 Thread 'MainThread': missing ScriptRunContext! This warning can be ignored when running in bare mode.\n",
      "2025-06-21 00:21:18.310 Thread 'MainThread': missing ScriptRunContext! This warning can be ignored when running in bare mode.\n",
      "2025-06-21 00:21:18.315 Thread 'MainThread': missing ScriptRunContext! This warning can be ignored when running in bare mode.\n",
      "2025-06-21 00:21:18.320 Thread 'MainThread': missing ScriptRunContext! This warning can be ignored when running in bare mode.\n",
      "2025-06-21 00:21:18.323 Thread 'MainThread': missing ScriptRunContext! This warning can be ignored when running in bare mode.\n",
      "2025-06-21 00:21:18.356 Thread 'MainThread': missing ScriptRunContext! This warning can be ignored when running in bare mode.\n",
      "2025-06-21 00:21:18.366 Thread 'MainThread': missing ScriptRunContext! This warning can be ignored when running in bare mode.\n",
      "2025-06-21 00:21:18.374 Thread 'MainThread': missing ScriptRunContext! This warning can be ignored when running in bare mode.\n",
      "2025-06-21 00:21:18.390 Thread 'MainThread': missing ScriptRunContext! This warning can be ignored when running in bare mode.\n",
      "2025-06-21 00:21:18.411 Thread 'MainThread': missing ScriptRunContext! This warning can be ignored when running in bare mode.\n",
      "2025-06-21 00:21:18.421 Thread 'MainThread': missing ScriptRunContext! This warning can be ignored when running in bare mode.\n",
      "2025-06-21 00:21:18.431 Thread 'MainThread': missing ScriptRunContext! This warning can be ignored when running in bare mode.\n",
      "2025-06-21 00:21:18.435 Thread 'MainThread': missing ScriptRunContext! This warning can be ignored when running in bare mode.\n",
      "2025-06-21 00:21:18.444 Thread 'MainThread': missing ScriptRunContext! This warning can be ignored when running in bare mode.\n"
     ]
    }
   ],
   "source": [
    "# Load\n",
    "model = load_model(\"models/text_image_model.keras\")\n",
    "tfidf = pickle.load(open(\"models/tfidf.pkl\", \"rb\"))\n",
    "\n",
    "st.title(\"📰 Fake News Detector (Text + Image)\")\n",
    "\n",
    "text_input = st.text_area(\"Enter News Article Text:\")\n",
    "image_input = st.file_uploader(\"Upload Related Image\", type=[\"jpg\", \"png\"])\n",
    "\n",
    "if st.button(\"Predict\"):\n",
    "    if text_input and image_input:\n",
    "        # Text processing\n",
    "        text = clean_text(text_input)\n",
    "        text_vec = tfidf.transform([text]).toarray()\n",
    "\n",
    "        # Image processing\n",
    "        img = load_img(image_input, target_size=(224, 224))\n",
    "        img = img_to_array(img) / 255.0\n",
    "        img = np.expand_dims(img, axis=0)\n",
    "\n",
    "        # Prediction\n",
    "        pred = model.predict([text_vec, img])\n",
    "        label = \"✅ Real News\" if np.argmax(pred) == 1 else \"❌ Fake News\"\n",
    "        st.subheader(label)\n",
    "    else:\n",
    "        st.warning(\"Please enter both text and image.\")"
   ]
  },
  {
   "cell_type": "code",
   "execution_count": null,
   "id": "8e2b3a14",
   "metadata": {},
   "outputs": [],
   "source": []
  }
 ],
 "metadata": {
  "kernelspec": {
   "display_name": "tf-env",
   "language": "python",
   "name": "python3"
  },
  "language_info": {
   "codemirror_mode": {
    "name": "ipython",
    "version": 3
   },
   "file_extension": ".py",
   "mimetype": "text/x-python",
   "name": "python",
   "nbconvert_exporter": "python",
   "pygments_lexer": "ipython3",
   "version": "3.10.18"
  }
 },
 "nbformat": 4,
 "nbformat_minor": 5
}
